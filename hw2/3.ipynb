{
 "cells": [
  {
   "cell_type": "code",
   "execution_count": 1,
   "metadata": {},
   "outputs": [],
   "source": [
    "# import torch\n",
    "import pandas as pd\n",
    "import json,os,sqlite3"
   ]
  },
  {
   "cell_type": "code",
   "execution_count": 2,
   "metadata": {},
   "outputs": [],
   "source": [
    "def insert_by_batch(con,command,array):\n",
    "\tcur = con.cursor()\n",
    "\tfor batch in [array[i:i+2000] for i in range(len(array))[::2000]]:\n",
    "\t\tcur.executemany(command,batch)\n",
    "\tcon.commit()\n",
    "con = sqlite3.connect(\"index.db\")\n",
    "cur = con.cursor()\n",
    "charges = json.load(open(\"data/documents/common_charge.json\",encoding=\"utf-8\"))\n",
    "query_related = {v for key in charges for v in charges[key][:100] if v.endswith(\".json\")}\n",
    "with open(\"data/query.json\",encoding=\"utf-8\") as f:\n",
    "\tfor i in f.readlines():\n",
    "\t\tt =  json.loads(i)\n",
    "\t\tif t[\"path\"].endswith(\".json\"):\n",
    "\t\t\tquery_related.add(t[\"path\"])\n",
    "data = []\n",
    "for item in query_related:\n",
    "\tobj = json.load(open(\"data/documents/documents/{}\".format(item),encoding=\"utf-8\"))\n",
    "\tobj[\"path\"] = item\n",
    "\tdata.append(obj)"
   ]
  },
  {
   "cell_type": "code",
   "execution_count": 3,
   "metadata": {},
   "outputs": [],
   "source": [
    "from transformers import AutoTokenizer, AutoModelForMaskedLM\n",
    "import torch\n",
    "import tqdm\n",
    "\n",
    "tokenizer = AutoTokenizer.from_pretrained(\"bert-base-chinese\")"
   ]
  },
  {
   "cell_type": "code",
   "execution_count": 14,
   "metadata": {},
   "outputs": [],
   "source": [
    "from torch import nn\n",
    "from torch.utils.data import Dataset\n",
    "import torch\n",
    "class Label():\n",
    "\tother = 0\n",
    "\tajjbqk_b = 1\n",
    "\tajjbqk_i = 2\n",
    "\tcpfxgc_b = 3\n",
    "\tcpfxgc_i = 4\n",
    "\tpjjg_b = 5\n",
    "\tpjjg_i =6\n",
    "def get_input(data,tokenizer):\n",
    "\tl = tokenizer(data[\"qw\"],add_special_tokens=True,return_offsets_mapping=True,max_length=20000,\n",
    "                            padding=\"max_length\",)\n",
    "\treturn ( torch.tensor(l[\"input_ids\"],dtype=torch.int32).view(20000,1),get_label(data,l[\"offset_mapping\"][1:]).view(20000,1))\n",
    "def get_label(data,offset_mapping):\n",
    "\ttry:\n",
    "\t\ta = data[\"qw\"].index(data[\"ajjbqk\"].strip())\n",
    "\t\tb = data[\"qw\"].index(data[\"cpfxgc\"].strip())\n",
    "\t\tc = data[\"qw\"].index(data[\"pjjg\"].strip())\n",
    "\texcept Exception:\n",
    "\t\treturn None\n",
    "\tret = [Label.other for i in range(a)]\n",
    "\tajjbqk = [Label.ajjbqk_b]\n",
    "\tajjbqk.extend(Label.ajjbqk_i for i in range(len(data[\"ajjbqk\"])))\n",
    "\tret.extend(ajjbqk)\n",
    "\tm = [Label.other for i in range((b - a-len(data[\"ajjbqk\"])))]\n",
    "\tif m is not None:\n",
    "\t\tret.extend(m)\n",
    "\tcpfxgc = [Label.cpfxgc_b]\n",
    "\tcpfxgc.extend([Label.cpfxgc_i for i in range(len(data[\"cpfxgc\"]))])\n",
    "\tret.extend(cpfxgc)\n",
    "\tm = [Label.other for i in range((c - b-len(data[\"cpfxgc\"])))]\n",
    "\tif m is not None:\n",
    "\t\tret.extend(m)\n",
    "\n",
    "\tpjjg = [Label.pjjg_b]\n",
    "\tpjjg.extend([Label.pjjg_i for i in range(len(data[\"pjjg\"]))])\n",
    "\tret.extend(pjjg)\n",
    "\tret.extend([Label.other for i in range((len(data[\"qw\"]) - c-len(data[\"pjjg\"])))])\n",
    "\tl2 = []\n",
    "\tl2.append(Label.other)\n",
    "\tfor i in offset_mapping:\n",
    "\t\tif(i[1]==0 and i[0]==0):break\n",
    "\t\tif i[1] -i[0]>1:\n",
    "\t\t\tfor j in ret[i[0]:i[1]]:\n",
    "\t\t\t\tif j % 2 ==1: # _b都是奇数\n",
    "\t\t\t\t\tt = j\n",
    "\t\t\t\t\tbreak\n",
    "\t\t\telse:\n",
    "\t\t\t\tt = ret[i[0]]\n",
    "\t\telse:\n",
    "\t\t\tt = ret[i[0]]\n",
    "\t\tl2.append(t)\n",
    "\tif len(l2) < 20000:\n",
    "\t\tl2.extend([Label.other for i in range(20000 - len(l2))])\n",
    "\treturn torch.tensor(l2,dtype=torch.float)\n",
    "class TrainDataset(Dataset):\n",
    "\tdef __init__(self,tokenizer, data):\n",
    "\t\tself.data = data\n",
    "\t\tself.tokenizer = tokenizer\n",
    "\tdef __len__(self):\n",
    "\t\treturn len(self.data)\n",
    "\n",
    "\tdef __getitem__(self, idx):\n",
    "\t\treturn get_input(self.data[idx],self.tokenizer)\n",
    "\n",
    "device = torch.device(\"cuda\")\n",
    "class GRUNet(nn.Module):\n",
    "    def __init__(self, input_dim, hidden_dim, output_dim, n_layers, drop_prob=0.2):\n",
    "        super(GRUNet, self).__init__()\n",
    "        self.hidden_dim = hidden_dim\n",
    "        self.n_layers = n_layers\n",
    "        \n",
    "        self.gru = nn.GRU(input_dim, hidden_dim, n_layers, batch_first=True, dropout=drop_prob)\n",
    "        self.fc = nn.Linear(hidden_dim, output_dim)\n",
    "        self.relu = nn.ReLU()\n",
    "        \n",
    "    def forward(self, x, h):\n",
    "        out, h = self.gru(x, h)\n",
    "        out = self.fc(self.relu(out[:,-1]))\n",
    "        return out, h\n",
    "    \n",
    "    def init_hidden(self, batch_size):\n",
    "        weight = next(self.parameters()).data\n",
    "        hidden = weight.new(self.n_layers, batch_size, self.hidden_dim).zero_().to(device)\n",
    "        return hidden"
   ]
  },
  {
   "cell_type": "code",
   "execution_count": 7,
   "metadata": {},
   "outputs": [
    {
     "name": "stderr",
     "output_type": "stream",
     "text": [
      "100%|██████████| 4000/4000 [01:10<00:00, 56.51it/s]\n"
     ]
    }
   ],
   "source": [
    "ok_data = []\n",
    "for i in tqdm.tqdm(data[:4000]):\n",
    "\tif len(i[\"qw\"]) > 19000:\n",
    "\t\tcontinue\n",
    "\ta,b = get_input(i,tokenizer)\n",
    "\tif b is None:\n",
    "\t\tcontinue\n",
    "\tok_data.append(i)"
   ]
  },
  {
   "cell_type": "code",
   "execution_count": 94,
   "metadata": {},
   "outputs": [
    {
     "data": {
      "text/plain": [
       "(0, 0)"
      ]
     },
     "execution_count": 94,
     "metadata": {},
     "output_type": "execute_result"
    }
   ],
   "source": [
    "l[\"offset_mapping\"][0]"
   ]
  },
  {
   "cell_type": "code",
   "execution_count": 17,
   "metadata": {},
   "outputs": [],
   "source": [
    "from torch.utils.data import DataLoader\n",
    "batch_size=2\n",
    "train_dataset = TrainDataset(tokenizer,ok_data)\n",
    "train_loader = DataLoader(train_dataset, shuffle=True, batch_size=batch_size, drop_last=True)"
   ]
  },
  {
   "cell_type": "code",
   "execution_count": 18,
   "metadata": {},
   "outputs": [],
   "source": [
    "import time\n",
    "def train(train_loader, learn_rate=0.001, hidden_dim=256, EPOCHS=5):\n",
    "    input_dim = 1\n",
    "    output_dim = 1\n",
    "    n_layers = 2\n",
    "    # Instantiating the models\n",
    "    model = GRUNet(input_dim, hidden_dim, output_dim, n_layers)\n",
    "    model.to(device)\n",
    "    \n",
    "    # Defining loss function and optimizer\n",
    "    criterion = nn.MSELoss()\n",
    "    optimizer = torch.optim.Adam(model.parameters(), lr=learn_rate)\n",
    "    \n",
    "    model.train()\n",
    "    print(\"Starting Training of {} model\")\n",
    "    epoch_times = []\n",
    "    # Start training loop\n",
    "    for epoch in range(1,EPOCHS+1):\n",
    "        start_time = time.clock()\n",
    "        h = model.init_hidden(batch_size)\n",
    "        avg_loss = 0.\n",
    "        counter = 0\n",
    "        for x, label in train_loader:\n",
    "            x = x\n",
    "            label=label\n",
    "            counter += 1\n",
    "            h = h.data\n",
    "            model.zero_grad()\n",
    "            \n",
    "            out, h = model(x.to(device).float(), h)\n",
    "            loss = criterion(out, label.to(device).float())\n",
    "            loss.backward()\n",
    "            optimizer.step()\n",
    "            avg_loss += loss.item()\n",
    "            if counter%200 == 0:\n",
    "                print(\"Epoch {}......Step: {}/{}....... Average Loss for Epoch: {}\".format(epoch, counter, len(train_loader), avg_loss/counter))\n",
    "        current_time = time.clock()\n",
    "        print(\"Epoch {}/{} Done, Total Loss: {}\".format(epoch, EPOCHS, avg_loss/len(train_loader)))\n",
    "        print(\"Total Time Elapsed: {} seconds\".format(str(current_time-start_time)))\n",
    "        epoch_times.append(current_time-start_time)\n",
    "    print(\"Total Training Time: {} seconds\".format(str(sum(epoch_times))))\n",
    "    return model"
   ]
  },
  {
   "cell_type": "code",
   "execution_count": 98,
   "metadata": {},
   "outputs": [],
   "source": [
    "for x, label in train_loader:\n",
    "\tbreak"
   ]
  },
  {
   "cell_type": "code",
   "execution_count": 19,
   "metadata": {},
   "outputs": [
    {
     "name": "stdout",
     "output_type": "stream",
     "text": [
      "Starting Training of {} model\n"
     ]
    },
    {
     "name": "stderr",
     "output_type": "stream",
     "text": [
      "c:\\Users\\QiuQichen\\.conda\\envs\\cs224n\\lib\\site-packages\\ipykernel_launcher.py:19: DeprecationWarning: time.clock has been deprecated in Python 3.3 and will be removed from Python 3.8: use time.perf_counter or time.process_time instead\n",
      "c:\\Users\\QiuQichen\\.conda\\envs\\cs224n\\lib\\site-packages\\torch\\nn\\modules\\loss.py:529: UserWarning: Using a target size (torch.Size([2, 20000, 1])) that is different to the input size (torch.Size([2, 1])). This will likely lead to incorrect results due to broadcasting. Please ensure they have the same size.\n",
      "  return F.mse_loss(input, target, reduction=self.reduction)\n"
     ]
    },
    {
     "ename": "RuntimeError",
     "evalue": "The size of tensor a (2) must match the size of tensor b (20000) at non-singleton dimension 1",
     "output_type": "error",
     "traceback": [
      "\u001b[1;31m---------------------------------------------------------------------------\u001b[0m",
      "\u001b[1;31mRuntimeError\u001b[0m                              Traceback (most recent call last)",
      "\u001b[1;32m~\\AppData\\Local\\Temp\\ipykernel_23264\\3087526048.py\u001b[0m in \u001b[0;36m<module>\u001b[1;34m\u001b[0m\n\u001b[1;32m----> 1\u001b[1;33m \u001b[0mmodel\u001b[0m \u001b[1;33m=\u001b[0m \u001b[0mtrain\u001b[0m\u001b[1;33m(\u001b[0m\u001b[0mtrain_loader\u001b[0m\u001b[1;33m)\u001b[0m\u001b[1;33m\u001b[0m\u001b[1;33m\u001b[0m\u001b[0m\n\u001b[0m",
      "\u001b[1;32m~\\AppData\\Local\\Temp\\ipykernel_23264\\2779456288.py\u001b[0m in \u001b[0;36mtrain\u001b[1;34m(train_loader, learn_rate, hidden_dim, EPOCHS)\u001b[0m\n\u001b[0;32m     29\u001b[0m \u001b[1;33m\u001b[0m\u001b[0m\n\u001b[0;32m     30\u001b[0m             \u001b[0mout\u001b[0m\u001b[1;33m,\u001b[0m \u001b[0mh\u001b[0m \u001b[1;33m=\u001b[0m \u001b[0mmodel\u001b[0m\u001b[1;33m(\u001b[0m\u001b[0mx\u001b[0m\u001b[1;33m.\u001b[0m\u001b[0mto\u001b[0m\u001b[1;33m(\u001b[0m\u001b[0mdevice\u001b[0m\u001b[1;33m)\u001b[0m\u001b[1;33m.\u001b[0m\u001b[0mfloat\u001b[0m\u001b[1;33m(\u001b[0m\u001b[1;33m)\u001b[0m\u001b[1;33m,\u001b[0m \u001b[0mh\u001b[0m\u001b[1;33m)\u001b[0m\u001b[1;33m\u001b[0m\u001b[1;33m\u001b[0m\u001b[0m\n\u001b[1;32m---> 31\u001b[1;33m             \u001b[0mloss\u001b[0m \u001b[1;33m=\u001b[0m \u001b[0mcriterion\u001b[0m\u001b[1;33m(\u001b[0m\u001b[0mout\u001b[0m\u001b[1;33m,\u001b[0m \u001b[0mlabel\u001b[0m\u001b[1;33m.\u001b[0m\u001b[0mto\u001b[0m\u001b[1;33m(\u001b[0m\u001b[0mdevice\u001b[0m\u001b[1;33m)\u001b[0m\u001b[1;33m.\u001b[0m\u001b[0mfloat\u001b[0m\u001b[1;33m(\u001b[0m\u001b[1;33m)\u001b[0m\u001b[1;33m)\u001b[0m\u001b[1;33m\u001b[0m\u001b[1;33m\u001b[0m\u001b[0m\n\u001b[0m\u001b[0;32m     32\u001b[0m             \u001b[0mloss\u001b[0m\u001b[1;33m.\u001b[0m\u001b[0mbackward\u001b[0m\u001b[1;33m(\u001b[0m\u001b[1;33m)\u001b[0m\u001b[1;33m\u001b[0m\u001b[1;33m\u001b[0m\u001b[0m\n\u001b[0;32m     33\u001b[0m             \u001b[0moptimizer\u001b[0m\u001b[1;33m.\u001b[0m\u001b[0mstep\u001b[0m\u001b[1;33m(\u001b[0m\u001b[1;33m)\u001b[0m\u001b[1;33m\u001b[0m\u001b[1;33m\u001b[0m\u001b[0m\n",
      "\u001b[1;32mc:\\Users\\QiuQichen\\.conda\\envs\\cs224n\\lib\\site-packages\\torch\\nn\\modules\\module.py\u001b[0m in \u001b[0;36m_call_impl\u001b[1;34m(self, *input, **kwargs)\u001b[0m\n\u001b[0;32m   1108\u001b[0m         if not (self._backward_hooks or self._forward_hooks or self._forward_pre_hooks or _global_backward_hooks\n\u001b[0;32m   1109\u001b[0m                 or _global_forward_hooks or _global_forward_pre_hooks):\n\u001b[1;32m-> 1110\u001b[1;33m             \u001b[1;32mreturn\u001b[0m \u001b[0mforward_call\u001b[0m\u001b[1;33m(\u001b[0m\u001b[1;33m*\u001b[0m\u001b[0minput\u001b[0m\u001b[1;33m,\u001b[0m \u001b[1;33m**\u001b[0m\u001b[0mkwargs\u001b[0m\u001b[1;33m)\u001b[0m\u001b[1;33m\u001b[0m\u001b[1;33m\u001b[0m\u001b[0m\n\u001b[0m\u001b[0;32m   1111\u001b[0m         \u001b[1;31m# Do not call functions when jit is used\u001b[0m\u001b[1;33m\u001b[0m\u001b[1;33m\u001b[0m\u001b[1;33m\u001b[0m\u001b[0m\n\u001b[0;32m   1112\u001b[0m         \u001b[0mfull_backward_hooks\u001b[0m\u001b[1;33m,\u001b[0m \u001b[0mnon_full_backward_hooks\u001b[0m \u001b[1;33m=\u001b[0m \u001b[1;33m[\u001b[0m\u001b[1;33m]\u001b[0m\u001b[1;33m,\u001b[0m \u001b[1;33m[\u001b[0m\u001b[1;33m]\u001b[0m\u001b[1;33m\u001b[0m\u001b[1;33m\u001b[0m\u001b[0m\n",
      "\u001b[1;32mc:\\Users\\QiuQichen\\.conda\\envs\\cs224n\\lib\\site-packages\\torch\\nn\\modules\\loss.py\u001b[0m in \u001b[0;36mforward\u001b[1;34m(self, input, target)\u001b[0m\n\u001b[0;32m    527\u001b[0m \u001b[1;33m\u001b[0m\u001b[0m\n\u001b[0;32m    528\u001b[0m     \u001b[1;32mdef\u001b[0m \u001b[0mforward\u001b[0m\u001b[1;33m(\u001b[0m\u001b[0mself\u001b[0m\u001b[1;33m,\u001b[0m \u001b[0minput\u001b[0m\u001b[1;33m:\u001b[0m \u001b[0mTensor\u001b[0m\u001b[1;33m,\u001b[0m \u001b[0mtarget\u001b[0m\u001b[1;33m:\u001b[0m \u001b[0mTensor\u001b[0m\u001b[1;33m)\u001b[0m \u001b[1;33m->\u001b[0m \u001b[0mTensor\u001b[0m\u001b[1;33m:\u001b[0m\u001b[1;33m\u001b[0m\u001b[1;33m\u001b[0m\u001b[0m\n\u001b[1;32m--> 529\u001b[1;33m         \u001b[1;32mreturn\u001b[0m \u001b[0mF\u001b[0m\u001b[1;33m.\u001b[0m\u001b[0mmse_loss\u001b[0m\u001b[1;33m(\u001b[0m\u001b[0minput\u001b[0m\u001b[1;33m,\u001b[0m \u001b[0mtarget\u001b[0m\u001b[1;33m,\u001b[0m \u001b[0mreduction\u001b[0m\u001b[1;33m=\u001b[0m\u001b[0mself\u001b[0m\u001b[1;33m.\u001b[0m\u001b[0mreduction\u001b[0m\u001b[1;33m)\u001b[0m\u001b[1;33m\u001b[0m\u001b[1;33m\u001b[0m\u001b[0m\n\u001b[0m\u001b[0;32m    530\u001b[0m \u001b[1;33m\u001b[0m\u001b[0m\n\u001b[0;32m    531\u001b[0m \u001b[1;33m\u001b[0m\u001b[0m\n",
      "\u001b[1;32mc:\\Users\\QiuQichen\\.conda\\envs\\cs224n\\lib\\site-packages\\torch\\nn\\functional.py\u001b[0m in \u001b[0;36mmse_loss\u001b[1;34m(input, target, size_average, reduce, reduction)\u001b[0m\n\u001b[0;32m   3259\u001b[0m         \u001b[0mreduction\u001b[0m \u001b[1;33m=\u001b[0m \u001b[0m_Reduction\u001b[0m\u001b[1;33m.\u001b[0m\u001b[0mlegacy_get_string\u001b[0m\u001b[1;33m(\u001b[0m\u001b[0msize_average\u001b[0m\u001b[1;33m,\u001b[0m \u001b[0mreduce\u001b[0m\u001b[1;33m)\u001b[0m\u001b[1;33m\u001b[0m\u001b[1;33m\u001b[0m\u001b[0m\n\u001b[0;32m   3260\u001b[0m \u001b[1;33m\u001b[0m\u001b[0m\n\u001b[1;32m-> 3261\u001b[1;33m     \u001b[0mexpanded_input\u001b[0m\u001b[1;33m,\u001b[0m \u001b[0mexpanded_target\u001b[0m \u001b[1;33m=\u001b[0m \u001b[0mtorch\u001b[0m\u001b[1;33m.\u001b[0m\u001b[0mbroadcast_tensors\u001b[0m\u001b[1;33m(\u001b[0m\u001b[0minput\u001b[0m\u001b[1;33m,\u001b[0m \u001b[0mtarget\u001b[0m\u001b[1;33m)\u001b[0m\u001b[1;33m\u001b[0m\u001b[1;33m\u001b[0m\u001b[0m\n\u001b[0m\u001b[0;32m   3262\u001b[0m     \u001b[1;32mreturn\u001b[0m \u001b[0mtorch\u001b[0m\u001b[1;33m.\u001b[0m\u001b[0m_C\u001b[0m\u001b[1;33m.\u001b[0m\u001b[0m_nn\u001b[0m\u001b[1;33m.\u001b[0m\u001b[0mmse_loss\u001b[0m\u001b[1;33m(\u001b[0m\u001b[0mexpanded_input\u001b[0m\u001b[1;33m,\u001b[0m \u001b[0mexpanded_target\u001b[0m\u001b[1;33m,\u001b[0m \u001b[0m_Reduction\u001b[0m\u001b[1;33m.\u001b[0m\u001b[0mget_enum\u001b[0m\u001b[1;33m(\u001b[0m\u001b[0mreduction\u001b[0m\u001b[1;33m)\u001b[0m\u001b[1;33m)\u001b[0m\u001b[1;33m\u001b[0m\u001b[1;33m\u001b[0m\u001b[0m\n\u001b[0;32m   3263\u001b[0m \u001b[1;33m\u001b[0m\u001b[0m\n",
      "\u001b[1;32mc:\\Users\\QiuQichen\\.conda\\envs\\cs224n\\lib\\site-packages\\torch\\functional.py\u001b[0m in \u001b[0;36mbroadcast_tensors\u001b[1;34m(*tensors)\u001b[0m\n\u001b[0;32m     73\u001b[0m     \u001b[1;32mif\u001b[0m \u001b[0mhas_torch_function\u001b[0m\u001b[1;33m(\u001b[0m\u001b[0mtensors\u001b[0m\u001b[1;33m)\u001b[0m\u001b[1;33m:\u001b[0m\u001b[1;33m\u001b[0m\u001b[1;33m\u001b[0m\u001b[0m\n\u001b[0;32m     74\u001b[0m         \u001b[1;32mreturn\u001b[0m \u001b[0mhandle_torch_function\u001b[0m\u001b[1;33m(\u001b[0m\u001b[0mbroadcast_tensors\u001b[0m\u001b[1;33m,\u001b[0m \u001b[0mtensors\u001b[0m\u001b[1;33m,\u001b[0m \u001b[1;33m*\u001b[0m\u001b[0mtensors\u001b[0m\u001b[1;33m)\u001b[0m\u001b[1;33m\u001b[0m\u001b[1;33m\u001b[0m\u001b[0m\n\u001b[1;32m---> 75\u001b[1;33m     \u001b[1;32mreturn\u001b[0m \u001b[0m_VF\u001b[0m\u001b[1;33m.\u001b[0m\u001b[0mbroadcast_tensors\u001b[0m\u001b[1;33m(\u001b[0m\u001b[0mtensors\u001b[0m\u001b[1;33m)\u001b[0m  \u001b[1;31m# type: ignore[attr-defined]\u001b[0m\u001b[1;33m\u001b[0m\u001b[1;33m\u001b[0m\u001b[0m\n\u001b[0m\u001b[0;32m     76\u001b[0m \u001b[1;33m\u001b[0m\u001b[0m\n\u001b[0;32m     77\u001b[0m \u001b[1;33m\u001b[0m\u001b[0m\n",
      "\u001b[1;31mRuntimeError\u001b[0m: The size of tensor a (2) must match the size of tensor b (20000) at non-singleton dimension 1"
     ]
    }
   ],
   "source": [
    "# model = train(train_loader)"
   ]
  },
  {
   "cell_type": "code",
   "execution_count": 62,
   "metadata": {},
   "outputs": [
    {
     "data": {
      "text/plain": [
       "334"
      ]
     },
     "execution_count": 62,
     "metadata": {},
     "output_type": "execute_result"
    }
   ],
   "source": [
    "a = data[23][\"qw\"].index(data[23][\"ajjbqk\"])\n",
    "b = data[23][\"qw\"].index(data[23][\"cpfxgc\"])\n",
    "c = data[23][\"qw\"].index(data[23][\"pjjg\"])\n",
    "t.index(1)"
   ]
  },
  {
   "cell_type": "code",
   "execution_count": 29,
   "metadata": {},
   "outputs": [
    {
     "data": {
      "text/plain": [
       "5251"
      ]
     },
     "execution_count": 29,
     "metadata": {},
     "output_type": "execute_result"
    }
   ],
   "source": [
    "583+len(a[\"ajjbqk\"])"
   ]
  },
  {
   "cell_type": "code",
   "execution_count": 26,
   "metadata": {},
   "outputs": [
    {
     "data": {
      "text/plain": [
       "5251"
      ]
     },
     "execution_count": 26,
     "metadata": {},
     "output_type": "execute_result"
    }
   ],
   "source": [
    "a[\"qw\"].index(a[\"cpfxgc\"])"
   ]
  },
  {
   "cell_type": "code",
   "execution_count": 27,
   "metadata": {},
   "outputs": [
    {
     "data": {
      "text/plain": [
       "5880"
      ]
     },
     "execution_count": 27,
     "metadata": {},
     "output_type": "execute_result"
    }
   ],
   "source": [
    "a[\"qw\"].index(a[\"pjjg\"])"
   ]
  },
  {
   "cell_type": "code",
   "execution_count": 20,
   "metadata": {},
   "outputs": [
    {
     "data": {
      "text/html": [
       "<div>\n",
       "<style scoped>\n",
       "    .dataframe tbody tr th:only-of-type {\n",
       "        vertical-align: middle;\n",
       "    }\n",
       "\n",
       "    .dataframe tbody tr th {\n",
       "        vertical-align: top;\n",
       "    }\n",
       "\n",
       "    .dataframe thead th {\n",
       "        text-align: right;\n",
       "    }\n",
       "</style>\n",
       "<table border=\"1\" class=\"dataframe\">\n",
       "  <thead>\n",
       "    <tr style=\"text-align: right;\">\n",
       "      <th></th>\n",
       "      <th>ajId</th>\n",
       "      <th>ajName</th>\n",
       "      <th>ajjbqk</th>\n",
       "      <th>cpfxgc</th>\n",
       "      <th>pjjg</th>\n",
       "      <th>qw</th>\n",
       "      <th>writId</th>\n",
       "      <th>writName</th>\n",
       "      <th>path</th>\n",
       "    </tr>\n",
       "  </thead>\n",
       "  <tbody>\n",
       "    <tr>\n",
       "      <th>0</th>\n",
       "      <td>c988b11b-3543-474e-8137-254ad23fcfcb</td>\n",
       "      <td>戴琪、杨绍宝协助组织卖淫一案</td>\n",
       "      <td>余干县人民检察院指控，2017年12月18日温馨99休闲会所开业以来，该会所老板（另案处理...</td>\n",
       "      <td>本院认为，被告人戴琪、杨绍宝明知他人利用休闲会所实施组织卖淫犯罪活动，仍受其雇佣在卖淫场所实...</td>\n",
       "      <td>一、被告人戴琪犯协助组织卖淫罪，判处有期徒刑一年六个月，并处罚金人民币五千元； （刑期自判...</td>\n",
       "      <td>江西省余干县人民法院 刑事判决书 （2018）赣1127刑初91号 公诉机关江西省余干县人民...</td>\n",
       "      <td>0654f9f6a68e2e5c1eceae9a75192910bdb</td>\n",
       "      <td>戴琪、杨绍宝协助组织卖淫一审刑事判决书</td>\n",
       "      <td>c988b11b-3543-474e-8137-254ad23fcfcb/0654f9f6a...</td>\n",
       "    </tr>\n",
       "    <tr>\n",
       "      <th>1</th>\n",
       "      <td>29043223-7716-40f9-b685-f6376617dac9</td>\n",
       "      <td>前郭尔罗斯蒙古族自治县人民检察院指控原审被告人初志刚犯贪污罪、滥用职权罪、逃税罪，原审被告单...</td>\n",
       "      <td>原公诉机关前郭县人民检察院前检刑诉（2009）158号起诉书指控： （一）2004-200...</td>\n",
       "      <td>本院认为，关于原审被告人初志刚在经营松原市兴达商厦期间，出售货架子等物品得款9700元，是否...</td>\n",
       "      <td>一、撤销前郭尔罗斯蒙古族自治县人民法院（2010）前刑重初字第3号刑事判决。 二、原审被告...</td>\n",
       "      <td>吉林省松原市宁江区人民法院 刑事判决书 （2014）宁刑再初字第1号 原公诉机关前郭尔罗斯蒙...</td>\n",
       "      <td>0460b7a3bd2db32f1769b8e94a768845651</td>\n",
       "      <td>前郭尔罗斯蒙古族自治县人民检察院指控原审被告人初志刚犯贪污罪、滥用职权罪、逃税罪，原审被告单...</td>\n",
       "      <td>29043223-7716-40f9-b685-f6376617dac9/0460b7a3b...</td>\n",
       "    </tr>\n",
       "    <tr>\n",
       "      <th>2</th>\n",
       "      <td>dda855e8-04ba-43b9-bd44-b2ee8970c23e</td>\n",
       "      <td>陆云健掩饰、隐瞒犯罪所得、犯罪所得收益罪一案</td>\n",
       "      <td>盐城市亭湖区人民检察院指控，2016年9月2日至4日期间，被告人陆云健明知是犯罪所得的赃款...</td>\n",
       "      <td>本院认为，被告人陆云健明知是犯罪所得的赃款帮助转移，情节严重，其行为已构成掩饰、隐瞒犯罪所得...</td>\n",
       "      <td>一、被告人陆云健犯掩饰、隐瞒犯罪所得罪，判处有期徒刑四年八个月，并处罚金人民币三万元。 刑...</td>\n",
       "      <td>江苏省盐城市亭湖区人民法院 刑事判决书 （2017）苏0902刑初433号 公诉机关盐城市亭...</td>\n",
       "      <td>0205c9764077f5064c745c922c63d42a7f2</td>\n",
       "      <td>陆云健掩饰、隐瞒犯罪所得、犯罪所得收益罪一审刑事判决书</td>\n",
       "      <td>dda855e8-04ba-43b9-bd44-b2ee8970c23e/0205c9764...</td>\n",
       "    </tr>\n",
       "    <tr>\n",
       "      <th>3</th>\n",
       "      <td>1449be59-b065-467c-a8c4-4becc5421a6e</td>\n",
       "      <td>李美荣非法制造、销售非法制造的注册商标标识罪一案</td>\n",
       "      <td>公诉机关指控，2015年11月初，一名姓肖的男子（在逃，身份信息不详）向被告人李美荣下单订...</td>\n",
       "      <td>本院认为，被告人李美荣无视国家法律，伪造他人注册商标标识并予以销售，情节特别严重，其行为已构...</td>\n",
       "      <td>一、被告人李美荣犯非法制造注册商标标识罪，判处有期徒刑三年，并处罚金人民币三千元，限于本判...</td>\n",
       "      <td>李美荣非法制造、销售非法制造的注册商标标识罪一审刑事判决书 广东省深圳市宝安区人民法院 刑事...</td>\n",
       "      <td>03136ce9ab43779243e41a19f27b25e3346</td>\n",
       "      <td>李美荣非法制造、销售非法制造的注册商标标识罪一审刑事判决书</td>\n",
       "      <td>1449be59-b065-467c-a8c4-4becc5421a6e/03136ce9a...</td>\n",
       "    </tr>\n",
       "    <tr>\n",
       "      <th>4</th>\n",
       "      <td>b3dcc279-fc01-464d-b1e7-3b65836342e2</td>\n",
       "      <td>陈少平、钟翔虚假一案</td>\n",
       "      <td>兴国县人民检察院指控：2013年，被告人陈少平、钟翔、应强、刘斌合伙在兴国县潋江镇潋江大道...</td>\n",
       "      <td>本院认为：被告人陈少平、钟翔、应强、刘斌共同以捏造的事实提起民事诉讼，妨害司法秩序，并严重侵...</td>\n",
       "      <td>一、被告人陈少平犯虚假诉讼罪，判处有期徒刑一年八个月，并处罚金人民币三万元； （刑期从判决...</td>\n",
       "      <td>江西省兴国县人民法院 刑事判决书 （2019）赣0732刑初118号 公诉机关江西省兴国县人...</td>\n",
       "      <td>065bf6fc03a06ed67da63c9d06c8cc8d13a</td>\n",
       "      <td>陈少平、钟翔虚假诉讼一审刑事判决书</td>\n",
       "      <td>b3dcc279-fc01-464d-b1e7-3b65836342e2/065bf6fc0...</td>\n",
       "    </tr>\n",
       "    <tr>\n",
       "      <th>...</th>\n",
       "      <td>...</td>\n",
       "      <td>...</td>\n",
       "      <td>...</td>\n",
       "      <td>...</td>\n",
       "      <td>...</td>\n",
       "      <td>...</td>\n",
       "      <td>...</td>\n",
       "      <td>...</td>\n",
       "      <td>...</td>\n",
       "    </tr>\n",
       "    <tr>\n",
       "      <th>8876</th>\n",
       "      <td>b3df73c2-4e71-4701-bcbb-641856f6b0b5</td>\n",
       "      <td>马某某贪污、玩忽职守一案</td>\n",
       "      <td>定西市安定区人民检察院指控：2008年6月，武威某某职业培训学校（以下简称武威某某学校，系...</td>\n",
       "      <td>本院认为，被告人马某某身为国家机关工作人员，在担任武威职业学院院长期间，作为学院管理国家助学...</td>\n",
       "      <td>一、被告人马某某犯玩忽职守罪，判处有期徒刑一年，犯受贿罪，判处有期徒刑一年，决定执行有期徒...</td>\n",
       "      <td>甘肃省定西市安定区人民法院 刑事判决书 （2013）安刑初字第187号 公诉机关定西市安定区...</td>\n",
       "      <td>06049b712e804ace3c52d06c556b8d231d7</td>\n",
       "      <td>马某某贪污、玩忽职守一审刑事判决书</td>\n",
       "      <td>b3df73c2-4e71-4701-bcbb-641856f6b0b5/06049b712...</td>\n",
       "    </tr>\n",
       "    <tr>\n",
       "      <th>8877</th>\n",
       "      <td>48caedf6-be2b-4ca3-85f9-112f885d6a16</td>\n",
       "      <td>郑军、邓勇滥伐林木一案</td>\n",
       "      <td>经审理查明，2017年5月至2018年12月，被告人郑军、邓勇在未办理林木采伐许可证的情况...</td>\n",
       "      <td>本院认为：被告人郑军、邓勇违反森林法的规定，在未取得林木采伐许可证的情况下，任意采伐林木，数...</td>\n",
       "      <td>一、被告人郑军犯滥伐林木罪，判处有期徒刑一年二个月，缓刑二年，并处罚金四千元。 （缓刑考验...</td>\n",
       "      <td>湖北省秭归县人民法院 刑事判决书 （2019）鄂0527刑初59号 公诉机关秭归县人民检察院...</td>\n",
       "      <td>0525bab6dc1a03c0c662032e44c7fd3beb0</td>\n",
       "      <td>郑军、邓勇滥伐林木一审刑事判决书</td>\n",
       "      <td>48caedf6-be2b-4ca3-85f9-112f885d6a16/0525bab6d...</td>\n",
       "    </tr>\n",
       "    <tr>\n",
       "      <th>8878</th>\n",
       "      <td>5d8c7cf8-9ac8-4974-a2bc-2e8e6c15120d</td>\n",
       "      <td>被告人李文宇犯故意毁坏财物罪一案</td>\n",
       "      <td>经审理查明：2016年5月11日23时许，被告人李文宇在其位于绵阳市涪城区长虹世纪城二期3...</td>\n",
       "      <td>本院认为：被告人李文宇故意毁坏他人财物，数额较大，其行为已触犯国家刑律，构成故意毁坏财物罪。...</td>\n",
       "      <td>被告人李文宇犯故意毁坏财物罪，判处罚金人民币5000元（罚金限在判决生效之日起三个月内缴纳...</td>\n",
       "      <td>四川省绵阳市涪城区人民法院 刑事判决书 （2016）川0703刑初319号 公诉机关绵阳市涪...</td>\n",
       "      <td>00509a674e888856d93b64a947ba1d16a2f</td>\n",
       "      <td>被告人李文宇犯故意毁坏财物罪一案一审刑事判决书</td>\n",
       "      <td>5d8c7cf8-9ac8-4974-a2bc-2e8e6c15120d/00509a674...</td>\n",
       "    </tr>\n",
       "    <tr>\n",
       "      <th>8879</th>\n",
       "      <td>b4480369-4194-484a-9996-81e58e8b2977</td>\n",
       "      <td>裴春红非法持有毒品罪一案</td>\n",
       "      <td>NaN</td>\n",
       "      <td>辩护意见 被告人裴某某对起诉书指控的犯罪事实无异议，并认罪。 查明事实 经依法审查查明，2...</td>\n",
       "      <td>被告人裴某某犯非法持有毒品罪，判处有期徒刑十个月，并处罚金人民币六千元（刑期自2016年1...</td>\n",
       "      <td>裴春红非法持有毒品罪一审刑事判决书 {C} 广东省深圳市宝安区人民法院 刑事判决书 （201...</td>\n",
       "      <td>0540a9871eb8fd0a4af9bdbd2bf37bad148</td>\n",
       "      <td>裴春红非法持有毒品罪一审刑事判决书</td>\n",
       "      <td>b4480369-4194-484a-9996-81e58e8b2977/0540a9871...</td>\n",
       "    </tr>\n",
       "    <tr>\n",
       "      <th>8880</th>\n",
       "      <td>713c80b6-80a3-4330-8491-00314ed11825</td>\n",
       "      <td>孟宪臣放火一案</td>\n",
       "      <td>吉林省榆树市人民检察院指控，被告人孟宪臣因与本屯居民许某某为争当居民小组长而产生矛盾，遂产...</td>\n",
       "      <td>本院认为，被告人孟宪臣为泄愤报复，故意放火焚烧公私财物，危害公共安全，其行为已构成放火罪，公...</td>\n",
       "      <td>被告人孟宪臣犯放火罪，判处有期徒刑三年六个月。 （刑期从判决执行之日起计算，判决执行以前先...</td>\n",
       "      <td>吉林省榆树市人民法院 刑事判决书 （2013）榆刑初字第486号 公诉机关吉林省榆树市人民检...</td>\n",
       "      <td>05324e5679d1ab128ecc6cd3d5c7953ac89</td>\n",
       "      <td>孟宪臣放火一审刑事判决书</td>\n",
       "      <td>713c80b6-80a3-4330-8491-00314ed11825/05324e567...</td>\n",
       "    </tr>\n",
       "  </tbody>\n",
       "</table>\n",
       "<p>8881 rows × 9 columns</p>\n",
       "</div>"
      ],
      "text/plain": [
       "                                      ajId  \\\n",
       "0     c988b11b-3543-474e-8137-254ad23fcfcb   \n",
       "1     29043223-7716-40f9-b685-f6376617dac9   \n",
       "2     dda855e8-04ba-43b9-bd44-b2ee8970c23e   \n",
       "3     1449be59-b065-467c-a8c4-4becc5421a6e   \n",
       "4     b3dcc279-fc01-464d-b1e7-3b65836342e2   \n",
       "...                                    ...   \n",
       "8876  b3df73c2-4e71-4701-bcbb-641856f6b0b5   \n",
       "8877  48caedf6-be2b-4ca3-85f9-112f885d6a16   \n",
       "8878  5d8c7cf8-9ac8-4974-a2bc-2e8e6c15120d   \n",
       "8879  b4480369-4194-484a-9996-81e58e8b2977   \n",
       "8880  713c80b6-80a3-4330-8491-00314ed11825   \n",
       "\n",
       "                                                 ajName  \\\n",
       "0                                        戴琪、杨绍宝协助组织卖淫一案   \n",
       "1     前郭尔罗斯蒙古族自治县人民检察院指控原审被告人初志刚犯贪污罪、滥用职权罪、逃税罪，原审被告单...   \n",
       "2                                陆云健掩饰、隐瞒犯罪所得、犯罪所得收益罪一案   \n",
       "3                              李美荣非法制造、销售非法制造的注册商标标识罪一案   \n",
       "4                                            陈少平、钟翔虚假一案   \n",
       "...                                                 ...   \n",
       "8876                                       马某某贪污、玩忽职守一案   \n",
       "8877                                        郑军、邓勇滥伐林木一案   \n",
       "8878                                   被告人李文宇犯故意毁坏财物罪一案   \n",
       "8879                                       裴春红非法持有毒品罪一案   \n",
       "8880                                            孟宪臣放火一案   \n",
       "\n",
       "                                                 ajjbqk  \\\n",
       "0      余干县人民检察院指控，2017年12月18日温馨99休闲会所开业以来，该会所老板（另案处理...   \n",
       "1      原公诉机关前郭县人民检察院前检刑诉（2009）158号起诉书指控： （一）2004-200...   \n",
       "2      盐城市亭湖区人民检察院指控，2016年9月2日至4日期间，被告人陆云健明知是犯罪所得的赃款...   \n",
       "3      公诉机关指控，2015年11月初，一名姓肖的男子（在逃，身份信息不详）向被告人李美荣下单订...   \n",
       "4      兴国县人民检察院指控：2013年，被告人陈少平、钟翔、应强、刘斌合伙在兴国县潋江镇潋江大道...   \n",
       "...                                                 ...   \n",
       "8876   定西市安定区人民检察院指控：2008年6月，武威某某职业培训学校（以下简称武威某某学校，系...   \n",
       "8877   经审理查明，2017年5月至2018年12月，被告人郑军、邓勇在未办理林木采伐许可证的情况...   \n",
       "8878   经审理查明：2016年5月11日23时许，被告人李文宇在其位于绵阳市涪城区长虹世纪城二期3...   \n",
       "8879                                                NaN   \n",
       "8880   吉林省榆树市人民检察院指控，被告人孟宪臣因与本屯居民许某某为争当居民小组长而产生矛盾，遂产...   \n",
       "\n",
       "                                                 cpfxgc  \\\n",
       "0     本院认为，被告人戴琪、杨绍宝明知他人利用休闲会所实施组织卖淫犯罪活动，仍受其雇佣在卖淫场所实...   \n",
       "1     本院认为，关于原审被告人初志刚在经营松原市兴达商厦期间，出售货架子等物品得款9700元，是否...   \n",
       "2     本院认为，被告人陆云健明知是犯罪所得的赃款帮助转移，情节严重，其行为已构成掩饰、隐瞒犯罪所得...   \n",
       "3     本院认为，被告人李美荣无视国家法律，伪造他人注册商标标识并予以销售，情节特别严重，其行为已构...   \n",
       "4     本院认为：被告人陈少平、钟翔、应强、刘斌共同以捏造的事实提起民事诉讼，妨害司法秩序，并严重侵...   \n",
       "...                                                 ...   \n",
       "8876  本院认为，被告人马某某身为国家机关工作人员，在担任武威职业学院院长期间，作为学院管理国家助学...   \n",
       "8877  本院认为：被告人郑军、邓勇违反森林法的规定，在未取得林木采伐许可证的情况下，任意采伐林木，数...   \n",
       "8878  本院认为：被告人李文宇故意毁坏他人财物，数额较大，其行为已触犯国家刑律，构成故意毁坏财物罪。...   \n",
       "8879   辩护意见 被告人裴某某对起诉书指控的犯罪事实无异议，并认罪。 查明事实 经依法审查查明，2...   \n",
       "8880  本院认为，被告人孟宪臣为泄愤报复，故意放火焚烧公私财物，危害公共安全，其行为已构成放火罪，公...   \n",
       "\n",
       "                                                   pjjg  \\\n",
       "0      一、被告人戴琪犯协助组织卖淫罪，判处有期徒刑一年六个月，并处罚金人民币五千元； （刑期自判...   \n",
       "1      一、撤销前郭尔罗斯蒙古族自治县人民法院（2010）前刑重初字第3号刑事判决。 二、原审被告...   \n",
       "2      一、被告人陆云健犯掩饰、隐瞒犯罪所得罪，判处有期徒刑四年八个月，并处罚金人民币三万元。 刑...   \n",
       "3      一、被告人李美荣犯非法制造注册商标标识罪，判处有期徒刑三年，并处罚金人民币三千元，限于本判...   \n",
       "4      一、被告人陈少平犯虚假诉讼罪，判处有期徒刑一年八个月，并处罚金人民币三万元； （刑期从判决...   \n",
       "...                                                 ...   \n",
       "8876   一、被告人马某某犯玩忽职守罪，判处有期徒刑一年，犯受贿罪，判处有期徒刑一年，决定执行有期徒...   \n",
       "8877   一、被告人郑军犯滥伐林木罪，判处有期徒刑一年二个月，缓刑二年，并处罚金四千元。 （缓刑考验...   \n",
       "8878   被告人李文宇犯故意毁坏财物罪，判处罚金人民币5000元（罚金限在判决生效之日起三个月内缴纳...   \n",
       "8879   被告人裴某某犯非法持有毒品罪，判处有期徒刑十个月，并处罚金人民币六千元（刑期自2016年1...   \n",
       "8880   被告人孟宪臣犯放火罪，判处有期徒刑三年六个月。 （刑期从判决执行之日起计算，判决执行以前先...   \n",
       "\n",
       "                                                     qw  \\\n",
       "0     江西省余干县人民法院 刑事判决书 （2018）赣1127刑初91号 公诉机关江西省余干县人民...   \n",
       "1     吉林省松原市宁江区人民法院 刑事判决书 （2014）宁刑再初字第1号 原公诉机关前郭尔罗斯蒙...   \n",
       "2     江苏省盐城市亭湖区人民法院 刑事判决书 （2017）苏0902刑初433号 公诉机关盐城市亭...   \n",
       "3     李美荣非法制造、销售非法制造的注册商标标识罪一审刑事判决书 广东省深圳市宝安区人民法院 刑事...   \n",
       "4     江西省兴国县人民法院 刑事判决书 （2019）赣0732刑初118号 公诉机关江西省兴国县人...   \n",
       "...                                                 ...   \n",
       "8876  甘肃省定西市安定区人民法院 刑事判决书 （2013）安刑初字第187号 公诉机关定西市安定区...   \n",
       "8877  湖北省秭归县人民法院 刑事判决书 （2019）鄂0527刑初59号 公诉机关秭归县人民检察院...   \n",
       "8878  四川省绵阳市涪城区人民法院 刑事判决书 （2016）川0703刑初319号 公诉机关绵阳市涪...   \n",
       "8879  裴春红非法持有毒品罪一审刑事判决书 {C} 广东省深圳市宝安区人民法院 刑事判决书 （201...   \n",
       "8880  吉林省榆树市人民法院 刑事判决书 （2013）榆刑初字第486号 公诉机关吉林省榆树市人民检...   \n",
       "\n",
       "                                   writId  \\\n",
       "0     0654f9f6a68e2e5c1eceae9a75192910bdb   \n",
       "1     0460b7a3bd2db32f1769b8e94a768845651   \n",
       "2     0205c9764077f5064c745c922c63d42a7f2   \n",
       "3     03136ce9ab43779243e41a19f27b25e3346   \n",
       "4     065bf6fc03a06ed67da63c9d06c8cc8d13a   \n",
       "...                                   ...   \n",
       "8876  06049b712e804ace3c52d06c556b8d231d7   \n",
       "8877  0525bab6dc1a03c0c662032e44c7fd3beb0   \n",
       "8878  00509a674e888856d93b64a947ba1d16a2f   \n",
       "8879  0540a9871eb8fd0a4af9bdbd2bf37bad148   \n",
       "8880  05324e5679d1ab128ecc6cd3d5c7953ac89   \n",
       "\n",
       "                                               writName  \\\n",
       "0                                   戴琪、杨绍宝协助组织卖淫一审刑事判决书   \n",
       "1     前郭尔罗斯蒙古族自治县人民检察院指控原审被告人初志刚犯贪污罪、滥用职权罪、逃税罪，原审被告单...   \n",
       "2                           陆云健掩饰、隐瞒犯罪所得、犯罪所得收益罪一审刑事判决书   \n",
       "3                         李美荣非法制造、销售非法制造的注册商标标识罪一审刑事判决书   \n",
       "4                                     陈少平、钟翔虚假诉讼一审刑事判决书   \n",
       "...                                                 ...   \n",
       "8876                                  马某某贪污、玩忽职守一审刑事判决书   \n",
       "8877                                   郑军、邓勇滥伐林木一审刑事判决书   \n",
       "8878                            被告人李文宇犯故意毁坏财物罪一案一审刑事判决书   \n",
       "8879                                  裴春红非法持有毒品罪一审刑事判决书   \n",
       "8880                                       孟宪臣放火一审刑事判决书   \n",
       "\n",
       "                                                   path  \n",
       "0     c988b11b-3543-474e-8137-254ad23fcfcb/0654f9f6a...  \n",
       "1     29043223-7716-40f9-b685-f6376617dac9/0460b7a3b...  \n",
       "2     dda855e8-04ba-43b9-bd44-b2ee8970c23e/0205c9764...  \n",
       "3     1449be59-b065-467c-a8c4-4becc5421a6e/03136ce9a...  \n",
       "4     b3dcc279-fc01-464d-b1e7-3b65836342e2/065bf6fc0...  \n",
       "...                                                 ...  \n",
       "8876  b3df73c2-4e71-4701-bcbb-641856f6b0b5/06049b712...  \n",
       "8877  48caedf6-be2b-4ca3-85f9-112f885d6a16/0525bab6d...  \n",
       "8878  5d8c7cf8-9ac8-4974-a2bc-2e8e6c15120d/00509a674...  \n",
       "8879  b4480369-4194-484a-9996-81e58e8b2977/0540a9871...  \n",
       "8880  713c80b6-80a3-4330-8491-00314ed11825/05324e567...  \n",
       "\n",
       "[8881 rows x 9 columns]"
      ]
     },
     "execution_count": 20,
     "metadata": {},
     "output_type": "execute_result"
    }
   ],
   "source": [
    "data"
   ]
  }
 ],
 "metadata": {
  "interpreter": {
   "hash": "6d44dfae6451dbe052b0ffacaf8bd4295658ed94f6e76d6cefe365a8f1afb967"
  },
  "kernelspec": {
   "display_name": "Python 3.7.13 ('cs224n')",
   "language": "python",
   "name": "python3"
  },
  "language_info": {
   "codemirror_mode": {
    "name": "ipython",
    "version": 3
   },
   "file_extension": ".py",
   "mimetype": "text/x-python",
   "name": "python",
   "nbconvert_exporter": "python",
   "pygments_lexer": "ipython3",
   "version": "3.7.13"
  },
  "orig_nbformat": 4
 },
 "nbformat": 4,
 "nbformat_minor": 2
}
