{
 "cells": [
  {
   "cell_type": "code",
   "execution_count": 1,
   "metadata": {},
   "outputs": [],
   "source": [
    "# import torch\n",
    "import pandas as pd\n",
    "import json,os,sqlite3"
   ]
  },
  {
   "cell_type": "markdown",
   "metadata": {},
   "source": [
    "`ajId`:ID of the case,   \n",
    "`ajName` is the case name,   \n",
    "`ajjbqk` 基本事实,  \n",
    "`pjjg` 判决,    \n",
    "`qw`  全部内容,   \n",
    "`writId` 文档ID,   \n",
    "`writName` 文档名称   "
   ]
  },
  {
   "cell_type": "code",
   "execution_count": 2,
   "metadata": {},
   "outputs": [],
   "source": [
    "def insert_by_batch(con,command,array):\n",
    "\tcur = con.cursor()\n",
    "\tfor batch in [array[i:i+2000] for i in range(len(array))[::2000]]:\n",
    "\t\tcur.executemany(command,batch)\n",
    "\tcon.commit()\n",
    "con = sqlite3.connect(\"index.db\")\n",
    "cur = con.cursor()\n",
    "charges = json.load(open(\"data/documents/common_charge.json\",encoding=\"utf-8\"))\n",
    "query_related = {v for key in charges for v in charges[key][:100] if v.endswith(\".json\")}\n",
    "with open(\"data/query.json\",encoding=\"utf-8\") as f:\n",
    "\tfor i in f.readlines():\n",
    "\t\tt =  json.loads(i)\n",
    "\t\tif t[\"path\"].endswith(\".json\"):\n",
    "\t\t\tquery_related.add(t[\"path\"])\n",
    "data = []\n",
    "for item in query_related:\n",
    "\tobj = json.load(open(\"data/documents/documents/{}\".format(item),encoding=\"utf-8\"))\n",
    "\tobj[\"path\"] = item\n",
    "\tdata.append(obj)\n",
    "# going_inserted = [(index,\n",
    "# \t\t\t\t  i.get(\"ajName\",\"\"),\n",
    "# \t\t\t\t  i.get(\"ajjbqk\",\"\"),\n",
    "# \t\t\t\t  i.get(\"cpfxgc\",\"\"),\n",
    "# \t\t\t\t  i.get(\"pjjg\",\"\"),\n",
    "# \t\t\t\t  i.get(\"writName\",\"\"),\n",
    "# \t\t\t\t  i[\"writId\"],\n",
    "# \t\t\t\t  i[\"path\"]) for index,i in enumerate(data)]\n",
    "# insert_by_batch(con,\"insert or ignore into cases values (?,?,?,?,?,?,?,?)\",going_inserted)"
   ]
  },
  {
   "cell_type": "code",
   "execution_count": 16,
   "metadata": {},
   "outputs": [],
   "source": [
    "ret = dict()\n",
    "class Word:\n",
    "\tdef __init__(self,document_id,tf):\n",
    "\t\tself.document_id = document_id\n",
    "\t\tself.tf = tf\n",
    "seg = [i for i in list(jieba.cut(pd.DataFrame(data).loc[6815][\"qw\"],cut_all=True))]\n",
    "seg_count_dict = pd.Series(seg).value_counts().to_dict()\n",
    "for word in seg_count_dict:\n",
    "\ttf = seg_count_dict[word]\n",
    "\tret[word] = Word(i,tf)\n"
   ]
  },
  {
   "cell_type": "markdown",
   "metadata": {},
   "source": [
    "# 构建倒排索引\n",
    "1. 分词和去除停用词\n"
   ]
  },
  {
   "cell_type": "code",
   "execution_count": 3,
   "metadata": {},
   "outputs": [],
   "source": [
    "import jieba\n",
    "import tqdm\n",
    "from collections import defaultdict\n",
    "import pickle,re\n",
    "import pandas as pd\n",
    "import numpy as np\n",
    "import sqlite3\n",
    "from scipy import sparse\n",
    "from scipy.sparse.linalg import norm\n",
    "from typing import List,Tuple"
   ]
  },
  {
   "cell_type": "code",
   "execution_count": 4,
   "metadata": {},
   "outputs": [],
   "source": [
    "conn = sqlite3.connect(\"index.db\")\n",
    "cur = conn.cursor()\n",
    "matrix = sparse.load_npz(\"./document_matrix.npz\")\n",
    "matrix = matrix.T\n",
    "cur.execute(\"\"\"select * from words\"\"\")\n",
    "words = [word[1] for word in cur.fetchall()]\n",
    "cur.execute(\"\"\"select * from dc\"\"\")\n",
    "word_doc_count = [dc[1] for dc in cur.fetchall()]\n",
    "words_idx = {word:idx for idx,word in enumerate(words)}\n",
    "documents_length = cur.execute(\"\"\"select count(*) from cases\"\"\").fetchone()[0]"
   ]
  },
  {
   "cell_type": "code",
   "execution_count": 5,
   "metadata": {},
   "outputs": [
    {
     "name": "stderr",
     "output_type": "stream",
     "text": [
      "Building prefix dict from the default dictionary ...\n",
      "Loading model from cache C:\\Users\\QIUQIC~1\\AppData\\Local\\Temp\\jieba.cache\n",
      "Loading model cost 0.654 seconds.\n",
      "Prefix dict has been built successfully.\n"
     ]
    }
   ],
   "source": [
    "key =\"吉首市\"\n",
    "key_with_count = pd.Series(list(jieba.cut(key))).value_counts().to_dict()\n",
    "_x = sparse.lil_matrix((len(words),1))\n",
    "# 生成查询向量的tf-idf\n",
    "for word in key_with_count:\n",
    "\tif word in words:\n",
    "\t\tpos = words_idx[word]\n",
    "\t\t_x[pos,0] = key_with_count[word] * np.log( (documents_length+1) / (1 + word_doc_count[pos]))\n",
    "x = _x.tocsr()\n",
    "# 分词，利用倒排索引\n",
    "docuement_to_query = get_documents_matrix(key_with_count.keys())"
   ]
  },
  {
   "cell_type": "code",
   "execution_count": 14,
   "metadata": {},
   "outputs": [
    {
     "data": {
      "text/plain": [
       "array([8355, 8615, 1228, 8560, 6164, 5333, 1268, 5755])"
      ]
     },
     "execution_count": 14,
     "metadata": {},
     "output_type": "execute_result"
    }
   ],
   "source": [
    "docuement_to_query"
   ]
  },
  {
   "cell_type": "code",
   "execution_count": 11,
   "metadata": {},
   "outputs": [
    {
     "data": {
      "text/plain": [
       "False"
      ]
     },
     "execution_count": 11,
     "metadata": {},
     "output_type": "execute_result"
    }
   ],
   "source": [
    "\"吉首市\" in get_documents([8560])"
   ]
  },
  {
   "cell_type": "code",
   "execution_count": 2,
   "metadata": {},
   "outputs": [],
   "source": [
    "def get_documents_matrix(keys:list):\n",
    "\tl = []\n",
    "\tfor key in keys:\n",
    "\t\tif key in words:\n",
    "\t\t\tl.append(words_idx[key])\n",
    "\tsql = \"\"\"select document from inverse_index where word_index in ({})\"\"\".format(\",\".join([\"?\"]*len(l)) )\n",
    "\tcur.execute(sql,l)\n",
    "\treturn np.array(list({i[0] for i in cur.fetchall()}))\n",
    "\t\n",
    "def query(key:str,n:int=5):\n",
    "\tkey_with_count = pd.Series(list(jieba.cut(key))).value_counts().to_dict()\n",
    "\t_x = sparse.lil_matrix((len(words),1))\n",
    "\t# 生成查询向量的tf-idf\n",
    "\tfor word in key_with_count:\n",
    "\t\tif word in words:\n",
    "\t\t\tpos = words_idx[word]\n",
    "\t\t\t_x[pos,0] = key_with_count[word] * np.log( (documents_length+1) / (1 + word_doc_count[pos]))\n",
    "\tx = _x.tocsr()\n",
    "\t# 分词，利用倒排索引\n",
    "\tdocuement_to_query = get_documents_matrix(key_with_count.keys())\n",
    "\tm = matrix[docuement_to_query]\n",
    "\t# 计算查询向量与文档向量的余弦相似度\n",
    "\tcosine_distance = (m@x).toarray().flatten()/(norm(m,axis=1) * norm(x))\n",
    "\n",
    "\tind = np.argpartition(cosine_distance, -n)[-n:] # ind -> cosine\n",
    "\tunorder_result = cosine_distance[ind]\n",
    "\tresult_order = np.argsort(unorder_result)\n",
    "\tdoc_ids = docuement_to_query[ind[result_order]]\n",
    "\tdocuments = get_documents(doc_ids)\n",
    "\treturn [{\"id\":i,\"cosine_distance\":j,\"title\":k[0],\"fact\":k[1],\"verdict\":k[2]} for i,j,k in zip(doc_ids,unorder_result[result_order],documents)]\n",
    "\n",
    "def get_documents(document_ids):\n",
    "\tcommand = \"select ajName as case_name,ajjbqk as basic_fact,cpfxgc||pjjg as court_verdict from cases where id in ({})\"\\\n",
    "\t\t\t\t.format(\",\".join([str(i) for i in document_ids]))\n",
    "\tcur.execute(command)\n",
    "\treturn cur.fetchall()"
   ]
  },
  {
   "cell_type": "code",
   "execution_count": null,
   "metadata": {},
   "outputs": [],
   "source": [
    "# lsa_matrix = np.load(\"./compress_matrix.npy\")"
   ]
  },
  {
   "cell_type": "code",
   "execution_count": 72,
   "metadata": {},
   "outputs": [],
   "source": [
    "def half_query(key:str):\n",
    "\tkey_with_count = pd.Series(list(jieba.cut(key))).value_counts().to_dict()\n",
    "\t_x = sparse.lil_matrix((len(words),1))\n",
    "\t# 生成查询向量的tf-idf\n",
    "\tfor word in key_with_count:\n",
    "\t\tif word in words:\n",
    "\t\t\tpos = words_idx[word]\n",
    "\t\t\t_x[pos,0] = key_with_count[word] * np.log( (documents_length+1) / (1 + word_doc_count[pos]))\n",
    "\tx = _x.tocsr()\n",
    "\t# 分词，利用倒排索引\n",
    "\tdocuement_to_query = get_documents_matrix(key_with_count.keys())\n",
    "\tn = len(docuement_to_query)\n",
    "\tm = matrix[docuement_to_query]\n",
    "\t# 计算查询向量与文档向量的余弦相似度\n",
    "\tcosine_distance = (m@x).toarray().flatten()/(norm(m,axis=1) * norm(x))\n",
    "\tind = np.argpartition(cosine_distance, -n)[-n:] # ind -> cosine\n",
    "\tunorder_result = cosine_distance[ind]\n",
    "\tresult_order = np.flip(np.argsort(unorder_result))\n",
    "\tdoc_ids = docuement_to_query[ind[result_order]]\n",
    "\treturn doc_ids\n",
    "def svd_half_query(key:str):\n",
    "\tkey_with_count = pd.Series(list(jieba.cut(key))).value_counts().to_dict()\n",
    "\t_x = sparse.lil_matrix((len(words),1))\n",
    "\t# 生成查询向量的tf-idf\n",
    "\tfor word in key_with_count:\n",
    "\t\tif word in words:\n",
    "\t\t\tpos = words_idx[word]\n",
    "\t\t\t_x[pos,0] = key_with_count[word] * np.log( (documents_length+1) / (1 + word_doc_count[pos]))\n",
    "\tx = _x.tocsr()\n",
    "\tx = svd.transform(x.T).T\n",
    "\t# 分词，利用倒排索引\n",
    "\tdocuement_to_query = get_documents_matrix(key_with_count.keys())\n",
    "\tn = len(docuement_to_query)\n",
    "\tm = lsa_matrix[docuement_to_query]\n",
    "\t# 计算查询向量与文档向量的余弦相似度\n",
    "\tcosine_distance = (m@x).flatten()/(np.linalg.norm(m,axis=1) * np.linalg.norm(x))\n",
    "\n",
    "\tind = np.argpartition(cosine_distance, -n)[-n:] # ind -> cosine\n",
    "\tunorder_result = cosine_distance[ind]\n",
    "\tresult_order = np.flip(np.argsort(unorder_result))\n",
    "\tdoc_ids = docuement_to_query[ind[result_order]]\n",
    "\treturn doc_ids"
   ]
  },
  {
   "cell_type": "code",
   "execution_count": 50,
   "metadata": {},
   "outputs": [
    {
     "name": "stderr",
     "output_type": "stream",
     "text": [
      "100%|██████████| 272/272 [00:00<00:00, 30088.90it/s]\n"
     ]
    }
   ],
   "source": [
    "import json\n",
    "charges = json.load(open(\"data/documents/common_charge.json\",encoding=\"utf-8\"))\n",
    "command = \"select id,path from cases\"\n",
    "cur.execute(command)\n",
    "r = cur.fetchall()\n",
    "label2index = {}\n",
    "for i in r:\n",
    "\tlabel2index[i[1]] = i[0]\n",
    "test = dict()\n",
    "import tqdm\n",
    "for key in tqdm.tqdm(charges):\n",
    "\ttest[key] = []\n",
    "\tfor i in charges[key]:\n",
    "\t\tif i in label2index:\n",
    "\t\t\ttest[key].append(label2index[i])\n",
    "def get_abcd(sol,ans):\n",
    "\tset_sol = set(sol)\n",
    "\tset_ans = set(ans)\n",
    "\tn = len(sol)\n",
    "\tb = len(set_sol - set_ans) # 检索到且不相关\n",
    "\ta = n - b\n",
    "\tc = max(len(ans) - n,0)\n",
    "\td = documents_length - len(set_sol.union(set_ans))\n",
    "\treturn a,b,c,d\n",
    "def get_n_abcd(_sol,ans):\n",
    "\tret = []\n",
    "\tfor i in range(5,105,5):\n",
    "\t\t# if(len(_sol)>=i):\n",
    "\t\t\tret.append(get_abcd(_sol[:i],ans))\n",
    "\t\t# else:\n",
    "\t\t\t# return ret\n",
    "\treturn ret\n",
    "\n"
   ]
  },
  {
   "cell_type": "code",
   "execution_count": 73,
   "metadata": {},
   "outputs": [
    {
     "name": "stderr",
     "output_type": "stream",
     "text": [
      "100%|██████████| 272/272 [00:31<00:00,  8.59it/s]\n"
     ]
    }
   ],
   "source": [
    "test_result = []\n",
    "for key in tqdm.tqdm(test):\n",
    "\tif len(test[key]) >= 100:\n",
    "\t\ttest_result.append((half_query(key)[:len(test[key])],test[key]))"
   ]
  },
  {
   "cell_type": "code",
   "execution_count": 62,
   "metadata": {},
   "outputs": [
    {
     "data": {
      "text/plain": [
       "<function __main__.half_query(key: str)>"
      ]
     },
     "execution_count": 62,
     "metadata": {},
     "output_type": "execute_result"
    }
   ],
   "source": [
    "half_query"
   ]
  },
  {
   "cell_type": "code",
   "execution_count": 51,
   "metadata": {},
   "outputs": [],
   "source": [
    "def get_word(sentense):\n",
    "\treturn pd.Series([word for word in sentense.replace(\" \",\"\")]).value_counts().to_dict()\n",
    "# def half_query(key:str):\n",
    "# \tkey_with_count = get_word(key)\n",
    "# \t_x = sparse.lil_matrix((len(words),1))\n",
    "# \t# 生成查询向量的tf-idf\n",
    "# \tfor word in key_with_count:\n",
    "# \t\tif word in words:\n",
    "# \t\t\tpos = words_idx[word]\n",
    "# \t\t\t_x[pos,0] = key_with_count[word] * np.log( (documents_length+1) / (1 + word_doc_count[pos]))\n",
    "# \tx = _x.tocsr()\n",
    "# \t# 分词，利用倒排索引\n",
    "# \tdocuement_to_query = get_documents_matrix(key_with_count.keys())\n",
    "# \tn = len(docuement_to_query)\n",
    "# \tm = matrix[docuement_to_query]\n",
    "# \t# 计算查询向量与文档向量的余弦相似度\n",
    "# \tcosine_distance = (m@x).toarray().flatten()/(norm(m,axis=1) * norm(x))\n",
    "# \tind = np.argpartition(cosine_distance, -n)[-n:] # ind -> cosine\n",
    "# \tunorder_result = cosine_distance[ind]\n",
    "# \tresult_order = np.flip(np.argsort(unorder_result))\n",
    "# \tdoc_ids = docuement_to_query[ind[result_order]]\n",
    "\t# return doc_ids\n",
    "class Metric():\n",
    "\tdef __init__(self,test_result):\n",
    "\t\t# true_labels = np.array([self.get_true_labels(result[:50],ans) for result,ans in test_result])\n",
    "\t\t# self.p_at_10 = (true_labels[:,:10].sum(axis=1)/10).mean()\n",
    "\t\t# self.p_at_50 = (true_labels[:,:50].sum(axis=1)/50).mean()\n",
    "\t\t# del true_labels\n",
    "\t\tmat = sum([np.array(get_n_abcd(*i)) for i in test_result])\n",
    "\t\ta = mat[:,0]\n",
    "\t\tb = mat[:,1]\n",
    "\t\tc = mat[:,2]\n",
    "\t\tself.prec = a/(a+b)\n",
    "\t\tself.recall = a/(a+c)\n",
    "\tdef get_true_labels(sol,ans):\n",
    "\t\tret = []\n",
    "\t\tfor i in sol:\n",
    "\t\t\tif i in ans:\n",
    "\t\t\t\tret.append(1)\n",
    "\t\t\telse:\n",
    "\t\t\t\tret.append(0)\n",
    "\t\treturn np.array(ret)"
   ]
  },
  {
   "cell_type": "code",
   "execution_count": 71,
   "metadata": {},
   "outputs": [
    {
     "data": {
      "text/plain": [
       "<8881x162450 sparse matrix of type '<class 'numpy.float32'>'\n",
       "\twith 8008865 stored elements in Compressed Sparse Column format>"
      ]
     },
     "execution_count": 71,
     "metadata": {},
     "output_type": "execute_result"
    }
   ],
   "source": [
    "matrix"
   ]
  },
  {
   "cell_type": "code",
   "execution_count": 70,
   "metadata": {},
   "outputs": [],
   "source": [
    "from matplotlib import pyplot as plt"
   ]
  },
  {
   "cell_type": "code",
   "execution_count": 74,
   "metadata": {},
   "outputs": [],
   "source": [
    "m = Metric(test_result)"
   ]
  },
  {
   "cell_type": "code",
   "execution_count": 75,
   "metadata": {},
   "outputs": [
    {
     "data": {
      "text/plain": [
       "[<matplotlib.lines.Line2D at 0x29853ccec10>]"
      ]
     },
     "execution_count": 75,
     "metadata": {},
     "output_type": "execute_result"
    },
    {
     "data": {
      "image/png": "[encoded data removed]",
      "text/plain": [
       "<Figure size 432x288 with 1 Axes>"
      ]
     },
     "metadata": {
      "needs_background": "light"
     },
     "output_type": "display_data"
    }
   ],
   "source": [
    "from matplotlib import pyplot as plt\n",
    "plt.plot(np.arange(5,105,5),m.prec)\n",
    "plt.plot(np.arange(5,105,5),m2.prec)"
   ]
  },
  {
   "cell_type": "code",
   "execution_count": 67,
   "metadata": {},
   "outputs": [
    {
     "data": {
      "text/plain": [
       "array([0.12923077, 0.10923077, 0.11384615, 0.11846154, 0.12369231,\n",
       "       0.12564103, 0.12395604, 0.12538462, 0.12410256, 0.12430769,\n",
       "       0.12251748, 0.12307692, 0.1216568 , 0.12285714, 0.12184615,\n",
       "       0.12115385, 0.12036199, 0.11863248, 0.11935223, 0.11830769])"
      ]
     },
     "execution_count": 67,
     "metadata": {},
     "output_type": "execute_result"
    }
   ],
   "source": [
    "m.prec"
   ]
  },
  {
   "cell_type": "code",
   "execution_count": 49,
   "metadata": {},
   "outputs": [
    {
     "data": {
      "text/plain": [
       "0.7692307692307694"
      ]
     },
     "execution_count": 49,
     "metadata": {},
     "output_type": "execute_result"
    }
   ],
   "source": [
    "2/(6/5+7/5)\t"
   ]
  },
  {
   "cell_type": "code",
   "execution_count": 121,
   "metadata": {},
   "outputs": [
    {
     "data": {
      "text/plain": [
       "array([0.89777778, 0.87888889, 0.85777778, 0.85333333, 0.84156653,\n",
       "       0.83172363, 0.82339815, 0.81853713, 0.81177055, 0.80366726])"
      ]
     },
     "execution_count": 121,
     "metadata": {},
     "output_type": "execute_result"
    }
   ],
   "source": [
    "m2.prec"
   ]
  },
  {
   "cell_type": "code",
   "execution_count": 109,
   "metadata": {},
   "outputs": [
    {
     "data": {
      "text/plain": [
       "array([0.0323474 , 0.06545172, 0.09725324, 0.12877512, 0.15998192,\n",
       "       0.19176992, 0.22332875, 0.2550738 , 0.28745645, 0.31999064,\n",
       "       0.35219086, 0.38534842, 0.41907966, 0.45240408, 0.48606165,\n",
       "       0.52109181, 0.55690649, 0.59248445, 0.62860453, 0.66474594])"
      ]
     },
     "execution_count": 109,
     "metadata": {},
     "output_type": "execute_result"
    }
   ],
   "source": [
    "m.recall"
   ]
  },
  {
   "cell_type": "code",
   "execution_count": 1,
   "metadata": {},
   "outputs": [],
   "source": [
    "from sklearn.decomposition import TruncatedSVD\n",
    "svd = TruncatedSVD(n_components=2500, n_iter=5, random_state=42)"
   ]
  },
  {
   "cell_type": "code",
   "execution_count": 6,
   "metadata": {},
   "outputs": [
    {
     "data": {
      "text/html": [
       "<style>#sk-container-id-1 {color: black;background-color: white;}#sk-container-id-1 pre{padding: 0;}#sk-container-id-1 div.sk-toggleable {background-color: white;}#sk-container-id-1 label.sk-toggleable__label {cursor: pointer;display: block;width: 100%;margin-bottom: 0;padding: 0.3em;box-sizing: border-box;text-align: center;}#sk-container-id-1 label.sk-toggleable__label-arrow:before {content: \"▸\";float: left;margin-right: 0.25em;color: #696969;}#sk-container-id-1 label.sk-toggleable__label-arrow:hover:before {color: black;}#sk-container-id-1 div.sk-estimator:hover label.sk-toggleable__label-arrow:before {color: black;}#sk-container-id-1 div.sk-toggleable__content {max-height: 0;max-width: 0;overflow: hidden;text-align: left;background-color: #f0f8ff;}#sk-container-id-1 div.sk-toggleable__content pre {margin: 0.2em;color: black;border-radius: 0.25em;background-color: #f0f8ff;}#sk-container-id-1 input.sk-toggleable__control:checked~div.sk-toggleable__content {max-height: 200px;max-width: 100%;overflow: auto;}#sk-container-id-1 input.sk-toggleable__control:checked~label.sk-toggleable__label-arrow:before {content: \"▾\";}#sk-container-id-1 div.sk-estimator input.sk-toggleable__control:checked~label.sk-toggleable__label {background-color: #d4ebff;}#sk-container-id-1 div.sk-label input.sk-toggleable__control:checked~label.sk-toggleable__label {background-color: #d4ebff;}#sk-container-id-1 input.sk-hidden--visually {border: 0;clip: rect(1px 1px 1px 1px);clip: rect(1px, 1px, 1px, 1px);height: 1px;margin: -1px;overflow: hidden;padding: 0;position: absolute;width: 1px;}#sk-container-id-1 div.sk-estimator {font-family: monospace;background-color: #f0f8ff;border: 1px dotted black;border-radius: 0.25em;box-sizing: border-box;margin-bottom: 0.5em;}#sk-container-id-1 div.sk-estimator:hover {background-color: #d4ebff;}#sk-container-id-1 div.sk-parallel-item::after {content: \"\";width: 100%;border-bottom: 1px solid gray;flex-grow: 1;}#sk-container-id-1 div.sk-label:hover label.sk-toggleable__label {background-color: #d4ebff;}#sk-container-id-1 div.sk-serial::before {content: \"\";position: absolute;border-left: 1px solid gray;box-sizing: border-box;top: 0;bottom: 0;left: 50%;z-index: 0;}#sk-container-id-1 div.sk-serial {display: flex;flex-direction: column;align-items: center;background-color: white;padding-right: 0.2em;padding-left: 0.2em;position: relative;}#sk-container-id-1 div.sk-item {position: relative;z-index: 1;}#sk-container-id-1 div.sk-parallel {display: flex;align-items: stretch;justify-content: center;background-color: white;position: relative;}#sk-container-id-1 div.sk-item::before, #sk-container-id-1 div.sk-parallel-item::before {content: \"\";position: absolute;border-left: 1px solid gray;box-sizing: border-box;top: 0;bottom: 0;left: 50%;z-index: -1;}#sk-container-id-1 div.sk-parallel-item {display: flex;flex-direction: column;z-index: 1;position: relative;background-color: white;}#sk-container-id-1 div.sk-parallel-item:first-child::after {align-self: flex-end;width: 50%;}#sk-container-id-1 div.sk-parallel-item:last-child::after {align-self: flex-start;width: 50%;}#sk-container-id-1 div.sk-parallel-item:only-child::after {width: 0;}#sk-container-id-1 div.sk-dashed-wrapped {border: 1px dashed gray;margin: 0 0.4em 0.5em 0.4em;box-sizing: border-box;padding-bottom: 0.4em;background-color: white;}#sk-container-id-1 div.sk-label label {font-family: monospace;font-weight: bold;display: inline-block;line-height: 1.2em;}#sk-container-id-1 div.sk-label-container {text-align: center;}#sk-container-id-1 div.sk-container {/* jupyter's `normalize.less` sets `[hidden] { display: none; }` but bootstrap.min.css set `[hidden] { display: none !important; }` so we also need the `!important` here to be able to override the default hidden behavior on the sphinx rendered scikit-learn.org. See: https://github.com/scikit-learn/scikit-learn/issues/21755 */display: inline-block !important;position: relative;}#sk-container-id-1 div.sk-text-repr-fallback {display: none;}</style><div id=\"sk-container-id-1\" class=\"sk-top-container\"><div class=\"sk-text-repr-fallback\"><pre>TruncatedSVD(n_components=2500, random_state=42)</pre><b>In a Jupyter environment, please rerun this cell to show the HTML representation or trust the notebook. <br />On GitHub, the HTML representation is unable to render, please try loading this page with nbviewer.org.</b></div><div class=\"sk-container\" hidden><div class=\"sk-item\"><div class=\"sk-estimator sk-toggleable\"><input class=\"sk-toggleable__control sk-hidden--visually\" id=\"sk-estimator-id-1\" type=\"checkbox\" checked><label for=\"sk-estimator-id-1\" class=\"sk-toggleable__label sk-toggleable__label-arrow\">TruncatedSVD</label><div class=\"sk-toggleable__content\"><pre>TruncatedSVD(n_components=2500, random_state=42)</pre></div></div></div></div></div>"
      ],
      "text/plain": [
       "TruncatedSVD(n_components=2500, random_state=42)"
      ]
     },
     "execution_count": 6,
     "metadata": {},
     "output_type": "execute_result"
    }
   ],
   "source": [
    "svd.fit(matrix)"
   ]
  },
  {
   "cell_type": "code",
   "execution_count": 10,
   "metadata": {},
   "outputs": [],
   "source": [
    "import pickle\n",
    "pickle.dump(svd,open(\"./lsa.pkl\",\"wb\"))"
   ]
  },
  {
   "cell_type": "code",
   "execution_count": 7,
   "metadata": {},
   "outputs": [
    {
     "data": {
      "text/plain": [
       "95.07202506065369"
      ]
     },
     "execution_count": 7,
     "metadata": {},
     "output_type": "execute_result"
    }
   ],
   "source": [
    "svd.explained_variance_ratio_.sum()*100"
   ]
  },
  {
   "cell_type": "code",
   "execution_count": 11,
   "metadata": {},
   "outputs": [],
   "source": [
    "m = svd.transform(matrix)"
   ]
  },
  {
   "cell_type": "code",
   "execution_count": 12,
   "metadata": {},
   "outputs": [],
   "source": [
    "\n",
    "np.save(\"./compress_matrix.npy\",m)"
   ]
  },
  {
   "cell_type": "code",
   "execution_count": 14,
   "metadata": {},
   "outputs": [],
   "source": [
    "import aiosqlite\n",
    "async def get_documents(document_ids):\n",
    "\t# command = \"select ajName as case_name,ajjbqk as basic_fact,cpfxgc||pjjg as court_verdict from cases where id in ({})\"\\\n",
    "\t# \t\t\t.format(\",\".join([str(i) for i in document_ids]))\n",
    "\t# cur.execute(command)\n",
    "\t# return cur.fetchall()\n",
    "\tresult = []\n",
    "\tdb = await aiosqlite.connect(\"index.db\")\n",
    "\tfor document_id in document_ids:\n",
    "\t\tcommand = \"select ajName as case_name,ajjbqk as basic_fact,cpfxgc||pjjg as court_verdict from cases where id = {}\".format(document_id)\n",
    "\t\tcursor = await db.execute(command)\n",
    "\t\trow = await cursor.fetchone()\n",
    "\t\tresult.append(row)\n",
    "\tawait cursor.close()\n",
    "\tawait db.close()\n",
    "\treturn result"
   ]
  },
  {
   "cell_type": "code",
   "execution_count": 19,
   "metadata": {},
   "outputs": [
    {
     "data": {
      "text/plain": [
       "3"
      ]
     },
     "execution_count": 19,
     "metadata": {},
     "output_type": "execute_result"
    }
   ],
   "source": [
    "len(a[0])"
   ]
  },
  {
   "cell_type": "code",
   "execution_count": 13,
   "metadata": {},
   "outputs": [],
   "source": [
    "svd = pickle.load(open(\"./lsa.pkl\",\"rb\"))"
   ]
  },
  {
   "cell_type": "code",
   "execution_count": 25,
   "metadata": {},
   "outputs": [],
   "source": [
    "lsa_matrix = m"
   ]
  },
  {
   "cell_type": "code",
   "execution_count": 32,
   "metadata": {},
   "outputs": [],
   "source": [
    "# lsa_matrix = np.load(\"./compress_matrix.npy\")\n",
    "def svd_query(key:str,n:int=5,ret_parse_key=False):\n",
    "\tkey_with_count = pd.Series(list(jieba.cut(key))).value_counts().to_dict()\n",
    "\t_x = sparse.lil_matrix((len(words),1))\n",
    "\t# 生成查询向量的tf-idf\n",
    "\tfor word in key_with_count:\n",
    "\t\tif word in words:\n",
    "\t\t\tpos = words_idx[word]\n",
    "\t\t\t_x[pos,0] = key_with_count[word] * np.log( (documents_length+1) / (1 + word_doc_count[pos]))\n",
    "\tx = _x.tocsr()\n",
    "\tx = svd.transform(x.T).T\n",
    "\t# 分词，利用倒排索引\n",
    "\tdocuement_to_query = get_documents_matrix(key_with_count.keys())\n",
    "\tif len(docuement_to_query) == 0:\n",
    "\t\tif ret_parse_key:\n",
    "\t\t\treturn [],key_with_count.keys()\n",
    "\t\telse:\n",
    "\t\t\treturn ([],)\n",
    "\telif len(docuement_to_query) < n:\n",
    "\t\tn = len(docuement_to_query)\n",
    "\tm = lsa_matrix[docuement_to_query]\n",
    "\t# 计算查询向量与文档向量的余弦相似度\n",
    "\tcosine_distance = (m@x).flatten()/(np.linalg.norm(m,axis=1) * np.linalg.norm(x))\n",
    "\n",
    "\tind = np.argpartition(cosine_distance, -n)[-n:] # ind -> cosine\n",
    "\tunorder_result = cosine_distance[ind]\n",
    "\tresult_order = np.flip(np.argsort(unorder_result))\n",
    "\tdoc_ids = docuement_to_query[ind[result_order]]\n",
    "\tdocuments = get_documents(doc_ids)\n",
    "\tresult = [{\"id\":int(i),\"cosine_distance\":float(j),\"title\":k[0],\"fact\":k[1],\"verdict\":k[2]} for i,j,k in zip(doc_ids,unorder_result[result_order],documents)]\n",
    "\tif ret_parse_key:\n",
    "\t\treturn result,key_with_count.keys()\n",
    "\telse:\n",
    "\t\treturn (result,)"
   ]
  }
 ],
 "metadata": {
  "interpreter": {
   "hash": "3f164b8a8c03aecba6bca26069725bd49095c06ea6e42da0464d55ddfba3ef13"
  },
  "kernelspec": {
   "display_name": "Python 3.8.6 ('.venv': venv)",
   "language": "python",
   "name": "python3"
  },
  "language_info": {
   "codemirror_mode": {
    "name": "ipython",
    "version": 3
   },
   "file_extension": ".py",
   "mimetype": "text/x-python",
   "name": "python",
   "nbconvert_exporter": "python",
   "pygments_lexer": "ipython3",
   "version": "3.8.6"
  },
  "orig_nbformat": 4
 },
 "nbformat": 4,
 "nbformat_minor": 2
}
